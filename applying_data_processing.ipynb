{
 "cells": [
  {
   "cell_type": "code",
   "execution_count": 1,
   "id": "c63e45d5",
   "metadata": {},
   "outputs": [],
   "source": [
    "from data_processing import process_data"
   ]
  },
  {
   "cell_type": "markdown",
   "id": "07304797",
   "metadata": {},
   "source": [
    "Creo la serie de tiempo para cada cajero."
   ]
  },
  {
   "cell_type": "code",
   "execution_count": null,
   "id": "ae0d6c09",
   "metadata": {},
   "outputs": [
    {
     "name": "stdout",
     "output_type": "stream",
     "text": [
      "Todos los archivos fueron guardados en la carpeta 'data_processed'.\n"
     ]
    },
    {
     "data": {
      "text/plain": [
       "<Figure size 1200x600 with 0 Axes>"
      ]
     },
     "metadata": {},
     "output_type": "display_data"
    }
   ],
   "source": [
    "#Escrea las primeras n+1 series de tiempo\n",
    "process_data(n = 2)"
   ]
  },
  {
   "cell_type": "code",
   "execution_count": null,
   "id": "2a986f91",
   "metadata": {},
   "outputs": [],
   "source": []
  }
 ],
 "metadata": {
  "kernelspec": {
   "display_name": "predCash",
   "language": "python",
   "name": "python3"
  },
  "language_info": {
   "codemirror_mode": {
    "name": "ipython",
    "version": 3
   },
   "file_extension": ".py",
   "mimetype": "text/x-python",
   "name": "python",
   "nbconvert_exporter": "python",
   "pygments_lexer": "ipython3",
   "version": "3.10.13"
  }
 },
 "nbformat": 4,
 "nbformat_minor": 5
}
